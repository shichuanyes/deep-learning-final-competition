{
 "cells": [
  {
   "cell_type": "code",
   "execution_count": 1,
   "id": "initial_id",
   "metadata": {
    "collapsed": true,
    "ExecuteTime": {
     "end_time": "2023-12-08T15:59:08.549165500Z",
     "start_time": "2023-12-08T15:59:06.446937600Z"
    }
   },
   "outputs": [],
   "source": [
    "import numpy as np\n",
    "\n",
    "from tqdm import tqdm\n",
    "from datasets.video_dataset import VideoDataset\n",
    "from torch.utils.data import DataLoader\n",
    "\n",
    "ds = VideoDataset('./data/val', num_frames=22)\n",
    "loader = DataLoader(ds, batch_size=128)"
   ]
  },
  {
   "cell_type": "code",
   "execution_count": 2,
   "outputs": [],
   "source": [
    "import torch\n",
    "\n",
    "device = torch.device('cuda' if torch.cuda.is_available() else 'cpu')"
   ],
   "metadata": {
    "collapsed": false,
    "ExecuteTime": {
     "end_time": "2023-12-08T15:59:08.583048400Z",
     "start_time": "2023-12-08T15:59:08.550675500Z"
    }
   },
   "id": "1464c6ae016b80d0"
  },
  {
   "cell_type": "code",
   "execution_count": 3,
   "outputs": [],
   "source": [
    "model = torch.load('model.pt').to(device)"
   ],
   "metadata": {
    "collapsed": false,
    "ExecuteTime": {
     "end_time": "2023-12-08T15:59:08.732733Z",
     "start_time": "2023-12-08T15:59:08.583048400Z"
    }
   },
   "id": "8ffbc700b555111b"
  },
  {
   "cell_type": "code",
   "execution_count": 4,
   "outputs": [
    {
     "name": "stderr",
     "output_type": "stream",
     "text": [
      "100%|██████████| 8/8 [01:38<00:00, 12.26s/it]\n"
     ]
    }
   ],
   "source": [
    "preds = []\n",
    "masks = []\n",
    "\n",
    "model.eval()\n",
    "with torch.inference_mode():\n",
    "    for batch in tqdm(loader):\n",
    "        image = batch['images'][:, 11].float().to(device)\n",
    "        mask = batch['masks'][:, -1]\n",
    "        \n",
    "        output = model(image)\n",
    "        output = torch.argmax(output, dim=1)\n",
    "        preds.append(output.cpu())\n",
    "        masks.append(mask)"
   ],
   "metadata": {
    "collapsed": false,
    "ExecuteTime": {
     "end_time": "2023-12-08T16:00:46.795103800Z",
     "start_time": "2023-12-08T15:59:08.733733100Z"
    }
   },
   "id": "3a9554f440e6a086"
  },
  {
   "cell_type": "code",
   "execution_count": 5,
   "outputs": [],
   "source": [
    "pred = np.concatenate(preds, axis=0)\n",
    "mask = np.concatenate(masks, axis=0)"
   ],
   "metadata": {
    "collapsed": false,
    "ExecuteTime": {
     "end_time": "2023-12-08T16:00:46.906102100Z",
     "start_time": "2023-12-08T16:00:46.793104Z"
    }
   },
   "id": "2fa5813c2552f3ab"
  },
  {
   "cell_type": "code",
   "execution_count": 6,
   "outputs": [
    {
     "data": {
      "text/plain": "(1000, 160, 240)"
     },
     "execution_count": 6,
     "metadata": {},
     "output_type": "execute_result"
    }
   ],
   "source": [
    "pred.shape"
   ],
   "metadata": {
    "collapsed": false,
    "ExecuteTime": {
     "end_time": "2023-12-08T16:00:46.912141900Z",
     "start_time": "2023-12-08T16:00:46.907609Z"
    }
   },
   "id": "661dbba874bad24b"
  },
  {
   "cell_type": "code",
   "execution_count": 7,
   "outputs": [
    {
     "data": {
      "text/plain": "(1000, 160, 240)"
     },
     "execution_count": 7,
     "metadata": {},
     "output_type": "execute_result"
    }
   ],
   "source": [
    "mask.shape"
   ],
   "metadata": {
    "collapsed": false,
    "ExecuteTime": {
     "end_time": "2023-12-08T16:00:46.916343600Z",
     "start_time": "2023-12-08T16:00:46.911142300Z"
    }
   },
   "id": "8869904b5f2bc267"
  },
  {
   "cell_type": "code",
   "execution_count": 8,
   "outputs": [
    {
     "data": {
      "text/plain": "tensor(0.1845)"
     },
     "execution_count": 8,
     "metadata": {},
     "output_type": "execute_result"
    }
   ],
   "source": [
    "import torchmetrics\n",
    "\n",
    "jaccard = torchmetrics.JaccardIndex(task='multiclass', num_classes=49)\n",
    "jaccard(torch.tensor(pred), torch.tensor(mask))"
   ],
   "metadata": {
    "collapsed": false,
    "ExecuteTime": {
     "end_time": "2023-12-08T16:00:48.383295200Z",
     "start_time": "2023-12-08T16:00:46.916343600Z"
    }
   },
   "id": "1ad47676dfb6a60a"
  }
 ],
 "metadata": {
  "kernelspec": {
   "display_name": "Python 3",
   "language": "python",
   "name": "python3"
  },
  "language_info": {
   "codemirror_mode": {
    "name": "ipython",
    "version": 2
   },
   "file_extension": ".py",
   "mimetype": "text/x-python",
   "name": "python",
   "nbconvert_exporter": "python",
   "pygments_lexer": "ipython2",
   "version": "2.7.6"
  }
 },
 "nbformat": 4,
 "nbformat_minor": 5
}
